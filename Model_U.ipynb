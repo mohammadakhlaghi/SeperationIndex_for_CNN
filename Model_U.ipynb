{
  "nbformat": 4,
  "nbformat_minor": 0,
  "metadata": {
    "colab": {
      "provenance": [],
      "gpuType": "T4"
    },
    "kernelspec": {
      "name": "python3",
      "display_name": "Python 3"
    },
    "language_info": {
      "name": "python"
    },
    "accelerator": "GPU"
  },
  "cells": [
    {
      "cell_type": "code",
      "source": [
        "import torch\n",
        "import torch.nn as nn\n",
        "import torch.optim as optim\n",
        "from torchvision.datasets import MNIST\n",
        "from torch.utils.data import DataLoader, random_split, Subset\n",
        "from torchvision import transforms\n",
        "import matplotlib.pyplot as plt\n",
        "\n",
        "# Define AlexNet model\n",
        "class AlexNet(nn.Module):\n",
        "    def __init__(self, num=10):\n",
        "        super(AlexNet, self).__init__()\n",
        "        self.feature = nn.Sequential(\n",
        "            nn.Conv2d(1, 32, kernel_size=5, stride=1, padding=1),\n",
        "            nn.ReLU(inplace=True),\n",
        "            nn.Conv2d(32, 64, kernel_size=3, padding=1),\n",
        "            nn.ReLU(inplace=True),\n",
        "            nn.MaxPool2d(kernel_size=2, stride=2),\n",
        "            nn.Conv2d(64, 96, kernel_size=3, padding=1),\n",
        "            nn.ReLU(inplace=True),\n",
        "            nn.Conv2d(96, 64, kernel_size=3, padding=1),\n",
        "            nn.ReLU(inplace=True),\n",
        "            nn.Conv2d(64, 32, kernel_size=3, padding=1),\n",
        "            nn.ReLU(inplace=True),\n",
        "            nn.MaxPool2d(kernel_size=2, stride=1),\n",
        "        )\n",
        "        self.classifier = nn.Sequential(\n",
        "            nn.Dropout(),\n",
        "            nn.Linear(32*12*12, 2048),\n",
        "            nn.ReLU(inplace=True),\n",
        "            nn.Dropout(),\n",
        "            nn.Linear(2048, 1024),\n",
        "            nn.ReLU(inplace=True),\n",
        "            nn.Linear(1024, num),\n",
        "        )\n",
        "\n",
        "    def forward(self, x):\n",
        "        x = self.feature(x)\n",
        "        x = x.view(-1, 32*12*12)\n",
        "        x = self.classifier(x)\n",
        "        return x\n",
        "\n",
        "# Set up the device\n",
        "device = torch.device(\"cuda:0\" if torch.cuda.is_available() else \"cpu\")\n",
        "\n",
        "# Load the MNIST dataset\n",
        "transform = transforms.Compose([transforms.ToTensor()])\n",
        "mnist_dataset = MNIST(root='./data', train=True, transform=transform, download=True)\n",
        "\n",
        "# Define the number of samples for training and validation\n",
        "total_samples = len(mnist_dataset)\n",
        "train_percentage = 0.8\n",
        "train_size = int(total_samples * train_percentage)\n",
        "val_size = total_samples - train_size\n",
        "\n",
        "# Create indices for training and validation sets\n",
        "indices = list(range(total_samples))\n",
        "train_indices, val_indices = random_split(indices, [train_size, val_size])\n",
        "\n",
        "# Create Subset datasets using the indices\n",
        "train_dataset = Subset(mnist_dataset, train_indices)\n",
        "val_dataset = Subset(mnist_dataset, val_indices)\n",
        "\n",
        "# Create DataLoader for training and validation\n",
        "train_loader = DataLoader(train_dataset, batch_size=64, shuffle=True)\n",
        "val_loader = DataLoader(val_dataset, batch_size=64, shuffle=False)\n",
        "\n",
        "# Initialize your AlexNet model and move it to the appropriate device\n",
        "model = AlexNet(num=10).to(device)\n",
        "\n",
        "# Define loss function and optimizer\n",
        "criterion = nn.CrossEntropyLoss()\n",
        "optimizer = optim.SGD(model.parameters(), lr=0.01, momentum=0.9)\n",
        "\n",
        "# Train the model\n",
        "train_loss_history = []\n",
        "val_loss_history = []\n",
        "train_accuracy_history = []\n",
        "val_accuracy_history = []\n",
        "\n",
        "num_epochs = 20\n"
      ],
      "metadata": {
        "id": "OD5iWEfmkgp-"
      },
      "execution_count": 10,
      "outputs": []
    },
    {
      "cell_type": "code",
      "source": [
        "\n",
        "for epoch in range(num_epochs):\n",
        "    model.train()\n",
        "    running_train_loss = 0.0\n",
        "    correct_train = 0\n",
        "    total_train = 0\n",
        "\n",
        "    # Training loop\n",
        "    for inputs, labels in train_loader:\n",
        "        inputs, labels = inputs.to(device), labels.to(device)\n",
        "\n",
        "        optimizer.zero_grad()\n",
        "        outputs = model(inputs)\n",
        "        loss = criterion(outputs, labels)\n",
        "        loss.backward()\n",
        "        optimizer.step()\n",
        "\n",
        "        running_train_loss += loss.item()\n",
        "        _, predicted = outputs.max(1)\n",
        "        total_train += labels.size(0)\n",
        "        correct_train += predicted.eq(labels).sum().item()\n",
        "\n",
        "    # Validation loop\n",
        "    model.eval()\n",
        "    running_val_loss = 0.0\n",
        "    correct_val = 0\n",
        "    total_val = 0\n",
        "\n",
        "    with torch.no_grad():\n",
        "        for inputs, labels in val_loader:\n",
        "            inputs, labels = inputs.to(device), labels.to(device)\n",
        "\n",
        "            outputs = model(inputs)\n",
        "            loss = criterion(outputs, labels)\n",
        "\n",
        "            running_val_loss += loss.item()\n",
        "            _, predicted = outputs.max(1)\n",
        "            total_val += labels.size(0)\n",
        "            correct_val += predicted.eq(labels).sum().item()\n",
        "\n",
        "    # Calculate and store accuracy and loss for both training and validation\n",
        "    avg_train_loss = running_train_loss / len(train_loader)\n",
        "    avg_val_loss = running_val_loss / len(val_loader)\n",
        "    train_accuracy = 100.0 * correct_train / total_train\n",
        "    val_accuracy = 100.0 * correct_val / total_val\n",
        "\n",
        "    train_loss_history.append(avg_train_loss)\n",
        "    val_loss_history.append(avg_val_loss)\n",
        "    train_accuracy_history.append(train_accuracy)\n",
        "    val_accuracy_history.append(val_accuracy)\n",
        "\n",
        "    # Print progress\n",
        "    print(f'Epoch {epoch + 1}/{num_epochs}:\\t'\n",
        "          f'Train Loss: {avg_train_loss:.4f}\\tTrain Acc: {train_accuracy:.2f}%\\t'\n",
        "          f'Val Loss: {avg_val_loss:.4f}\\tVal Acc: {val_accuracy:.2f}%')\n",
        "\n",
        "# Save the trained model\n",
        "torch.save(model.state_dict(), 'saved_model.pth')\n",
        "print(\"Model saved at: saved_model.pth\")\n"
      ],
      "metadata": {
        "colab": {
          "base_uri": "https://localhost:8080/"
        },
        "id": "tf3fUaR9ko11",
        "outputId": "8af61655-94c2-4ddd-e7df-c2da64a2b2f2"
      },
      "execution_count": 11,
      "outputs": [
        {
          "output_type": "stream",
          "name": "stdout",
          "text": [
            "Epoch 1/20:\tTrain Loss: 1.3620\tTrain Acc: 49.90%\tVal Loss: 0.1162\tVal Acc: 96.32%\n",
            "Epoch 2/20:\tTrain Loss: 0.1084\tTrain Acc: 96.59%\tVal Loss: 0.0524\tVal Acc: 98.47%\n",
            "Epoch 3/20:\tTrain Loss: 0.0678\tTrain Acc: 97.98%\tVal Loss: 0.0452\tVal Acc: 98.68%\n",
            "Epoch 4/20:\tTrain Loss: 0.0502\tTrain Acc: 98.48%\tVal Loss: 0.0403\tVal Acc: 98.81%\n",
            "Epoch 5/20:\tTrain Loss: 0.0411\tTrain Acc: 98.70%\tVal Loss: 0.0419\tVal Acc: 98.71%\n",
            "Epoch 6/20:\tTrain Loss: 0.0381\tTrain Acc: 98.76%\tVal Loss: 0.0353\tVal Acc: 98.97%\n",
            "Epoch 7/20:\tTrain Loss: 0.0337\tTrain Acc: 99.00%\tVal Loss: 0.0302\tVal Acc: 99.08%\n",
            "Epoch 8/20:\tTrain Loss: 0.0278\tTrain Acc: 99.08%\tVal Loss: 0.0301\tVal Acc: 99.12%\n",
            "Epoch 9/20:\tTrain Loss: 0.0258\tTrain Acc: 99.21%\tVal Loss: 0.0276\tVal Acc: 99.15%\n",
            "Epoch 10/20:\tTrain Loss: 0.0218\tTrain Acc: 99.29%\tVal Loss: 0.0342\tVal Acc: 98.99%\n",
            "Epoch 11/20:\tTrain Loss: 0.0208\tTrain Acc: 99.36%\tVal Loss: 0.0266\tVal Acc: 99.22%\n",
            "Epoch 12/20:\tTrain Loss: 0.0181\tTrain Acc: 99.41%\tVal Loss: 0.0289\tVal Acc: 99.15%\n",
            "Epoch 13/20:\tTrain Loss: 0.0183\tTrain Acc: 99.39%\tVal Loss: 0.0305\tVal Acc: 99.19%\n",
            "Epoch 14/20:\tTrain Loss: 0.0165\tTrain Acc: 99.44%\tVal Loss: 0.0262\tVal Acc: 99.29%\n",
            "Epoch 15/20:\tTrain Loss: 0.0150\tTrain Acc: 99.50%\tVal Loss: 0.0256\tVal Acc: 99.38%\n",
            "Epoch 16/20:\tTrain Loss: 0.0151\tTrain Acc: 99.49%\tVal Loss: 0.0254\tVal Acc: 99.30%\n",
            "Epoch 17/20:\tTrain Loss: 0.0127\tTrain Acc: 99.60%\tVal Loss: 0.0310\tVal Acc: 99.18%\n",
            "Epoch 18/20:\tTrain Loss: 0.0134\tTrain Acc: 99.56%\tVal Loss: 0.0281\tVal Acc: 99.24%\n",
            "Epoch 19/20:\tTrain Loss: 0.0101\tTrain Acc: 99.67%\tVal Loss: 0.0287\tVal Acc: 99.24%\n",
            "Epoch 20/20:\tTrain Loss: 0.0105\tTrain Acc: 99.65%\tVal Loss: 0.0325\tVal Acc: 99.17%\n",
            "Model saved at: saved_model.pth\n"
          ]
        }
      ]
    },
    {
      "cell_type": "code",
      "source": [
        "\n",
        "# Plotting accuracy and loss\n",
        "plt.figure(figsize=(12, 4))\n",
        "plt.subplot(1, 2, 1)\n",
        "plt.plot(train_loss_history, label='Train Loss')\n",
        "plt.plot(val_loss_history, label='Validation Loss')\n",
        "plt.xlabel('Epochs')\n",
        "plt.ylabel('Loss')\n",
        "plt.legend()\n",
        "plt.subplot(1, 2, 2)\n",
        "plt.plot(train_accuracy_history, label='Train Accuracy')\n",
        "plt.plot(val_accuracy_history, label='Validation Accuracy')\n",
        "plt.xlabel('Epochs')\n",
        "plt.ylabel('Accuracy (%)')\n",
        "plt.legend()\n",
        "\n",
        "plt.show()"
      ],
      "metadata": {
        "colab": {
          "base_uri": "https://localhost:8080/",
          "height": 388
        },
        "id": "7rwCu8XIkqsp",
        "outputId": "02dca6c3-f7c9-483a-efc0-12ad1aba06d0"
      },
      "execution_count": 12,
      "outputs": [
        {
          "output_type": "display_data",
          "data": {
            "text/plain": [
              "<Figure size 1200x400 with 2 Axes>"
            ],
            "image/png": "[encoded data removed]"
          },
          "metadata": {}
        }
      ]
    },
    {
      "cell_type": "code",
      "source": [
        "# Function to evaluate the model on the test set\n",
        "def evaluate_model(model, test_loader, criterion):\n",
        "    model.eval()\n",
        "    running_test_loss = 0.0\n",
        "    correct_test = 0\n",
        "    total_test = 0\n",
        "\n",
        "    with torch.no_grad():\n",
        "        for inputs, labels in test_loader:\n",
        "            inputs, labels = inputs.to(device), labels.to(device)\n",
        "\n",
        "            outputs = model(inputs)\n",
        "            loss = criterion(outputs, labels)\n",
        "\n",
        "            running_test_loss += loss.item()\n",
        "            _, predicted = outputs.max(1)\n",
        "            total_test += labels.size(0)\n",
        "            correct_test += predicted.eq(labels).sum().item()\n",
        "\n",
        "    avg_test_loss = running_test_loss / len(test_loader)\n",
        "    test_accuracy = 100.0 * correct_test / total_test\n",
        "\n",
        "    print(f'Test Loss: {avg_test_loss:.4f}\\tTest Accuracy: {test_accuracy:.2f}%')\n",
        "\n",
        "# Load the pre-trained model\n",
        "model = AlexNet(num=10).to(device)\n",
        "model.load_state_dict(torch.load('saved_model.pth'))\n",
        "model.eval()\n",
        "\n",
        "# Load the MNIST test dataset\n",
        "transform = transforms.Compose([transforms.ToTensor()])\n",
        "mnist_test_dataset = MNIST(root='./data', train=False, transform=transform, download=True)\n",
        "test_indices = list(range(len(mnist_test_dataset)))\n",
        "test_dataset = Subset(mnist_test_dataset, test_indices)\n",
        "test_loader = DataLoader(test_dataset, batch_size=64, shuffle=False)\n",
        "\n",
        "# Evaluate the model on the test set\n",
        "evaluate_model(model, test_loader, criterion)"
      ],
      "metadata": {
        "colab": {
          "base_uri": "https://localhost:8080/"
        },
        "id": "hXomD9s1mZ6S",
        "outputId": "ccebec86-9ec3-44dd-d331-295666700edd"
      },
      "execution_count": 13,
      "outputs": [
        {
          "output_type": "stream",
          "name": "stdout",
          "text": [
            "Test Loss: 0.0272\tTest Accuracy: 99.31%\n"
          ]
        }
      ]
    }
  ]
}